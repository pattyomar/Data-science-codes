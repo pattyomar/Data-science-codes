{
 "cells": [
  {
   "cell_type": "code",
   "execution_count": 1,
   "metadata": {},
   "outputs": [],
   "source": [
    "import pandas as pd\n",
    "import numpy as np\n",
    "import seaborn as sns\n",
    "from matplotlib import pyplot as plt\n",
    "%matplotlib inline"
   ]
  },
  {
   "cell_type": "code",
   "execution_count": 2,
   "metadata": {},
   "outputs": [
    {
     "data": {
      "text/html": [
       "<div>\n",
       "<style scoped>\n",
       "    .dataframe tbody tr th:only-of-type {\n",
       "        vertical-align: middle;\n",
       "    }\n",
       "\n",
       "    .dataframe tbody tr th {\n",
       "        vertical-align: top;\n",
       "    }\n",
       "\n",
       "    .dataframe thead th {\n",
       "        text-align: right;\n",
       "    }\n",
       "</style>\n",
       "<table border=\"1\" class=\"dataframe\">\n",
       "  <thead>\n",
       "    <tr style=\"text-align: right;\">\n",
       "      <th></th>\n",
       "      <th>_Commodity</th>\n",
       "      <th>Type</th>\n",
       "      <th>Kgs</th>\n",
       "      <th>Kshs</th>\n",
       "      <th>Date</th>\n",
       "    </tr>\n",
       "    <tr>\n",
       "      <th>OBJECTID</th>\n",
       "      <th></th>\n",
       "      <th></th>\n",
       "      <th></th>\n",
       "      <th></th>\n",
       "      <th></th>\n",
       "    </tr>\n",
       "  </thead>\n",
       "  <tbody>\n",
       "    <tr>\n",
       "      <th>0</th>\n",
       "      <td>Flowers</td>\n",
       "      <td>ALSTROMERIA</td>\n",
       "      <td>949410.06</td>\n",
       "      <td>192174616.5</td>\n",
       "      <td>01/01/2005 12:00:00 AM</td>\n",
       "    </tr>\n",
       "    <tr>\n",
       "      <th>1</th>\n",
       "      <td>Flowers</td>\n",
       "      <td>ARABICUM</td>\n",
       "      <td>164136.06</td>\n",
       "      <td>30285412.0</td>\n",
       "      <td>01/01/2005 12:00:00 AM</td>\n",
       "    </tr>\n",
       "    <tr>\n",
       "      <th>2</th>\n",
       "      <td>Flowers</td>\n",
       "      <td>CARNATIONS, STD</td>\n",
       "      <td>2599236.25</td>\n",
       "      <td>707280768.0</td>\n",
       "      <td>01/01/2005 12:00:00 AM</td>\n",
       "    </tr>\n",
       "    <tr>\n",
       "      <th>3</th>\n",
       "      <td>Flowers</td>\n",
       "      <td>CARNATIONS, SPRAY</td>\n",
       "      <td>936688.00</td>\n",
       "      <td>164790960.0</td>\n",
       "      <td>01/01/2005 12:00:00 AM</td>\n",
       "    </tr>\n",
       "    <tr>\n",
       "      <th>4</th>\n",
       "      <td>Flowers</td>\n",
       "      <td>CUTTINGS</td>\n",
       "      <td>469077.50</td>\n",
       "      <td>659962176.0</td>\n",
       "      <td>01/01/2005 12:00:00 AM</td>\n",
       "    </tr>\n",
       "    <tr>\n",
       "      <th>...</th>\n",
       "      <td>...</td>\n",
       "      <td>...</td>\n",
       "      <td>...</td>\n",
       "      <td>...</td>\n",
       "      <td>...</td>\n",
       "    </tr>\n",
       "    <tr>\n",
       "      <th>165</th>\n",
       "      <td>Vegetables</td>\n",
       "      <td>BEANS RUNNER</td>\n",
       "      <td>832454.53</td>\n",
       "      <td>290131830.0</td>\n",
       "      <td>01/01/2014 12:00:00 AM</td>\n",
       "    </tr>\n",
       "    <tr>\n",
       "      <th>166</th>\n",
       "      <td>Vegetables</td>\n",
       "      <td>PEAS SNAP</td>\n",
       "      <td>1109364.46</td>\n",
       "      <td>332928224.0</td>\n",
       "      <td>01/01/2014 12:00:00 AM</td>\n",
       "    </tr>\n",
       "    <tr>\n",
       "      <th>167</th>\n",
       "      <td>Vegetables</td>\n",
       "      <td>PEAS SNOW</td>\n",
       "      <td>3045919.16</td>\n",
       "      <td>980570928.0</td>\n",
       "      <td>01/01/2014 12:00:00 AM</td>\n",
       "    </tr>\n",
       "    <tr>\n",
       "      <th>168</th>\n",
       "      <td>Vegetables</td>\n",
       "      <td>DUDHI</td>\n",
       "      <td>40364.83</td>\n",
       "      <td>10114596.0</td>\n",
       "      <td>01/01/2014 12:00:00 AM</td>\n",
       "    </tr>\n",
       "    <tr>\n",
       "      <th>169</th>\n",
       "      <td>Vegetables</td>\n",
       "      <td>OKRA</td>\n",
       "      <td>76251.05</td>\n",
       "      <td>22086243.0</td>\n",
       "      <td>01/01/2014 12:00:00 AM</td>\n",
       "    </tr>\n",
       "  </tbody>\n",
       "</table>\n",
       "<p>170 rows × 5 columns</p>\n",
       "</div>"
      ],
      "text/plain": [
       "          _Commodity               Type         Kgs         Kshs  \\\n",
       "OBJECTID                                                           \n",
       "0            Flowers        ALSTROMERIA   949410.06  192174616.5   \n",
       "1            Flowers           ARABICUM   164136.06   30285412.0   \n",
       "2            Flowers    CARNATIONS, STD  2599236.25  707280768.0   \n",
       "3            Flowers  CARNATIONS, SPRAY   936688.00  164790960.0   \n",
       "4            Flowers           CUTTINGS   469077.50  659962176.0   \n",
       "...              ...                ...         ...          ...   \n",
       "165       Vegetables       BEANS RUNNER   832454.53  290131830.0   \n",
       "166       Vegetables          PEAS SNAP  1109364.46  332928224.0   \n",
       "167       Vegetables          PEAS SNOW  3045919.16  980570928.0   \n",
       "168       Vegetables              DUDHI    40364.83   10114596.0   \n",
       "169       Vegetables               OKRA    76251.05   22086243.0   \n",
       "\n",
       "                            Date  \n",
       "OBJECTID                          \n",
       "0         01/01/2005 12:00:00 AM  \n",
       "1         01/01/2005 12:00:00 AM  \n",
       "2         01/01/2005 12:00:00 AM  \n",
       "3         01/01/2005 12:00:00 AM  \n",
       "4         01/01/2005 12:00:00 AM  \n",
       "...                          ...  \n",
       "165       01/01/2014 12:00:00 AM  \n",
       "166       01/01/2014 12:00:00 AM  \n",
       "167       01/01/2014 12:00:00 AM  \n",
       "168       01/01/2014 12:00:00 AM  \n",
       "169       01/01/2014 12:00:00 AM  \n",
       "\n",
       "[170 rows x 5 columns]"
      ]
     },
     "execution_count": 2,
     "metadata": {},
     "output_type": "execute_result"
    }
   ],
   "source": [
    "hort_df = pd.read_csv(\"E:\\My Python codes\\Horticultural_Exports_2005-2014.csv\", index_col = [\"OBJECTID\"]) \n",
    "hort_df"
   ]
  },
  {
   "cell_type": "code",
   "execution_count": 3,
   "metadata": {},
   "outputs": [],
   "source": [
    "hort_df.rename(columns = {\"_Commodity\":\"Commodity\"}, inplace = True)"
   ]
  },
  {
   "cell_type": "code",
   "execution_count": 4,
   "metadata": {},
   "outputs": [
    {
     "name": "stdout",
     "output_type": "stream",
     "text": [
      "<class 'pandas.core.frame.DataFrame'>\n",
      "Int64Index: 170 entries, 0 to 169\n",
      "Data columns (total 5 columns):\n",
      " #   Column     Non-Null Count  Dtype  \n",
      "---  ------     --------------  -----  \n",
      " 0   Commodity  170 non-null    object \n",
      " 1   Type       170 non-null    object \n",
      " 2   Kgs        170 non-null    float64\n",
      " 3   Kshs       170 non-null    float64\n",
      " 4   Date       170 non-null    object \n",
      "dtypes: float64(2), object(3)\n",
      "memory usage: 8.0+ KB\n"
     ]
    }
   ],
   "source": [
    "hort_df.info()"
   ]
  },
  {
   "cell_type": "code",
   "execution_count": 5,
   "metadata": {},
   "outputs": [
    {
     "data": {
      "text/plain": [
       "array(['ALSTROMERIA', 'ARABICUM', 'CARNATIONS, STD', 'CARNATIONS, SPRAY',\n",
       "       'CUTTINGS', 'ROSES', 'MIXED FLOWERS', 'AVOCADO', 'PASSION FRUIT',\n",
       "       'MANGO', 'BEANS FINE', 'BEANS X-FINE', 'BEANS RUNNER', 'PEAS SNAP',\n",
       "       'PEAS SNOW', 'DUDHI', 'OKRA'], dtype=object)"
      ]
     },
     "execution_count": 5,
     "metadata": {},
     "output_type": "execute_result"
    }
   ],
   "source": [
    "hort_df['Type'].unique()"
   ]
  },
  {
   "cell_type": "code",
   "execution_count": 14,
   "metadata": {},
   "outputs": [
    {
     "data": {
      "text/html": [
       "<div>\n",
       "<style scoped>\n",
       "    .dataframe tbody tr th:only-of-type {\n",
       "        vertical-align: middle;\n",
       "    }\n",
       "\n",
       "    .dataframe tbody tr th {\n",
       "        vertical-align: top;\n",
       "    }\n",
       "\n",
       "    .dataframe thead th {\n",
       "        text-align: right;\n",
       "    }\n",
       "</style>\n",
       "<table border=\"1\" class=\"dataframe\">\n",
       "  <thead>\n",
       "    <tr style=\"text-align: right;\">\n",
       "      <th></th>\n",
       "      <th>Kgs</th>\n",
       "      <th>Kshs</th>\n",
       "    </tr>\n",
       "  </thead>\n",
       "  <tbody>\n",
       "    <tr>\n",
       "      <th>count</th>\n",
       "      <td>1.700000e+02</td>\n",
       "      <td>1.700000e+02</td>\n",
       "    </tr>\n",
       "    <tr>\n",
       "      <th>mean</th>\n",
       "      <td>8.143009e+06</td>\n",
       "      <td>2.652703e+09</td>\n",
       "    </tr>\n",
       "    <tr>\n",
       "      <th>std</th>\n",
       "      <td>1.797833e+07</td>\n",
       "      <td>6.743005e+09</td>\n",
       "    </tr>\n",
       "    <tr>\n",
       "      <th>min</th>\n",
       "      <td>0.000000e+00</td>\n",
       "      <td>0.000000e+00</td>\n",
       "    </tr>\n",
       "    <tr>\n",
       "      <th>25%</th>\n",
       "      <td>5.989391e+05</td>\n",
       "      <td>1.388786e+08</td>\n",
       "    </tr>\n",
       "    <tr>\n",
       "      <th>50%</th>\n",
       "      <td>1.616177e+06</td>\n",
       "      <td>6.595743e+08</td>\n",
       "    </tr>\n",
       "    <tr>\n",
       "      <th>75%</th>\n",
       "      <td>5.676979e+06</td>\n",
       "      <td>1.547970e+09</td>\n",
       "    </tr>\n",
       "    <tr>\n",
       "      <th>max</th>\n",
       "      <td>9.814500e+07</td>\n",
       "      <td>4.212156e+10</td>\n",
       "    </tr>\n",
       "  </tbody>\n",
       "</table>\n",
       "</div>"
      ],
      "text/plain": [
       "                Kgs          Kshs\n",
       "count  1.700000e+02  1.700000e+02\n",
       "mean   8.143009e+06  2.652703e+09\n",
       "std    1.797833e+07  6.743005e+09\n",
       "min    0.000000e+00  0.000000e+00\n",
       "25%    5.989391e+05  1.388786e+08\n",
       "50%    1.616177e+06  6.595743e+08\n",
       "75%    5.676979e+06  1.547970e+09\n",
       "max    9.814500e+07  4.212156e+10"
      ]
     },
     "execution_count": 14,
     "metadata": {},
     "output_type": "execute_result"
    }
   ],
   "source": [
    "hort_df.describe()"
   ]
  },
  {
   "cell_type": "markdown",
   "metadata": {},
   "source": [
    "Insights to draw from data\n",
    "1. What is the highest selling commodity in Price and/or quantity\n",
    "3. Visualise a trend in the export of commodities over the years\n",
    "4. Determine contribution of horticultural exports over the years to National income"
   ]
  },
  {
   "cell_type": "code",
   "execution_count": 6,
   "metadata": {},
   "outputs": [
    {
     "data": {
      "text/html": [
       "<div>\n",
       "<style scoped>\n",
       "    .dataframe tbody tr th:only-of-type {\n",
       "        vertical-align: middle;\n",
       "    }\n",
       "\n",
       "    .dataframe tbody tr th {\n",
       "        vertical-align: top;\n",
       "    }\n",
       "\n",
       "    .dataframe thead th {\n",
       "        text-align: right;\n",
       "    }\n",
       "</style>\n",
       "<table border=\"1\" class=\"dataframe\">\n",
       "  <thead>\n",
       "    <tr style=\"text-align: right;\">\n",
       "      <th></th>\n",
       "      <th>Kgs</th>\n",
       "      <th>Kshs</th>\n",
       "    </tr>\n",
       "    <tr>\n",
       "      <th>Commodity</th>\n",
       "      <th></th>\n",
       "      <th></th>\n",
       "    </tr>\n",
       "  </thead>\n",
       "  <tbody>\n",
       "    <tr>\n",
       "      <th>Flowers</th>\n",
       "      <td>8.447852e+08</td>\n",
       "      <td>3.515591e+11</td>\n",
       "    </tr>\n",
       "    <tr>\n",
       "      <th>Vegetables</th>\n",
       "      <td>3.145842e+08</td>\n",
       "      <td>7.558170e+10</td>\n",
       "    </tr>\n",
       "    <tr>\n",
       "      <th>Fruits</th>\n",
       "      <td>2.249422e+08</td>\n",
       "      <td>2.381862e+10</td>\n",
       "    </tr>\n",
       "  </tbody>\n",
       "</table>\n",
       "</div>"
      ],
      "text/plain": [
       "                     Kgs          Kshs\n",
       "Commodity                             \n",
       "Flowers     8.447852e+08  3.515591e+11\n",
       "Vegetables  3.145842e+08  7.558170e+10\n",
       "Fruits      2.249422e+08  2.381862e+10"
      ]
     },
     "execution_count": 6,
     "metadata": {},
     "output_type": "execute_result"
    }
   ],
   "source": [
    "hort_commodity = hort_df.groupby(['Commodity']).sum()\n",
    "hort_commodity.sort_values(\"Kshs\", ascending = False, inplace = True)\n",
    "hort_commodity"
   ]
  },
  {
   "cell_type": "code",
   "execution_count": 7,
   "metadata": {},
   "outputs": [
    {
     "data": {
      "text/html": [
       "<style  type=\"text/css\" >\n",
       "    #T_a489cb6c_ccc0_11ea_8342_2839269152f4row0_col0 {\n",
       "            background-color:  #e4ff7a;\n",
       "            color:  #000000;\n",
       "        }    #T_a489cb6c_ccc0_11ea_8342_2839269152f4row0_col1 {\n",
       "            background-color:  #fc7f00;\n",
       "            color:  #000000;\n",
       "        }    #T_a489cb6c_ccc0_11ea_8342_2839269152f4row1_col0 {\n",
       "            background-color:  #e4ff7a;\n",
       "            color:  #000000;\n",
       "        }    #T_a489cb6c_ccc0_11ea_8342_2839269152f4row1_col1 {\n",
       "            background-color:  #fc7f00;\n",
       "            color:  #000000;\n",
       "        }    #T_a489cb6c_ccc0_11ea_8342_2839269152f4row2_col0 {\n",
       "            background-color:  #e4ff7a;\n",
       "            color:  #000000;\n",
       "        }    #T_a489cb6c_ccc0_11ea_8342_2839269152f4row2_col1 {\n",
       "            background-color:  #fc7f00;\n",
       "            color:  #000000;\n",
       "        }</style><table id=\"T_a489cb6c_ccc0_11ea_8342_2839269152f4\" ><thead>    <tr>        <th class=\"blank level0\" ></th>        <th class=\"col_heading level0 col0\" >Kgs</th>        <th class=\"col_heading level0 col1\" >Kshs</th>    </tr>    <tr>        <th class=\"index_name level0\" >Commodity</th>        <th class=\"blank\" ></th>        <th class=\"blank\" ></th>    </tr></thead><tbody>\n",
       "                <tr>\n",
       "                        <th id=\"T_a489cb6c_ccc0_11ea_8342_2839269152f4level0_row0\" class=\"row_heading level0 row0\" >Flowers</th>\n",
       "                        <td id=\"T_a489cb6c_ccc0_11ea_8342_2839269152f4row0_col0\" class=\"data row0 col0\" >844785159</td>\n",
       "                        <td id=\"T_a489cb6c_ccc0_11ea_8342_2839269152f4row0_col1\" class=\"data row0 col1\" >351559117526</td>\n",
       "            </tr>\n",
       "            <tr>\n",
       "                        <th id=\"T_a489cb6c_ccc0_11ea_8342_2839269152f4level0_row1\" class=\"row_heading level0 row1\" >Vegetables</th>\n",
       "                        <td id=\"T_a489cb6c_ccc0_11ea_8342_2839269152f4row1_col0\" class=\"data row1 col0\" >314584185</td>\n",
       "                        <td id=\"T_a489cb6c_ccc0_11ea_8342_2839269152f4row1_col1\" class=\"data row1 col1\" >75581702240</td>\n",
       "            </tr>\n",
       "            <tr>\n",
       "                        <th id=\"T_a489cb6c_ccc0_11ea_8342_2839269152f4level0_row2\" class=\"row_heading level0 row2\" >Fruits</th>\n",
       "                        <td id=\"T_a489cb6c_ccc0_11ea_8342_2839269152f4row2_col0\" class=\"data row2 col0\" >224942240</td>\n",
       "                        <td id=\"T_a489cb6c_ccc0_11ea_8342_2839269152f4row2_col1\" class=\"data row2 col1\" >23818624581</td>\n",
       "            </tr>\n",
       "    </tbody></table>"
      ],
      "text/plain": [
       "<pandas.io.formats.style.Styler at 0x24ff8044370>"
      ]
     },
     "execution_count": 7,
     "metadata": {},
     "output_type": "execute_result"
    }
   ],
   "source": [
    "hort_commodity.style.background_gradient(cmap='Wistia',axis=1).format(\"{:.2f}\").format(\"{:.0f}\",subset=[\"Kgs\",\"Kshs\"])"
   ]
  },
  {
   "cell_type": "markdown",
   "metadata": {},
   "source": [
    "Flowers are the highest selling commodity by quantity and price"
   ]
  },
  {
   "cell_type": "code",
   "execution_count": 8,
   "metadata": {},
   "outputs": [
    {
     "data": {
      "text/html": [
       "<div>\n",
       "<style scoped>\n",
       "    .dataframe tbody tr th:only-of-type {\n",
       "        vertical-align: middle;\n",
       "    }\n",
       "\n",
       "    .dataframe tbody tr th {\n",
       "        vertical-align: top;\n",
       "    }\n",
       "\n",
       "    .dataframe thead th {\n",
       "        text-align: right;\n",
       "    }\n",
       "</style>\n",
       "<table border=\"1\" class=\"dataframe\">\n",
       "  <thead>\n",
       "    <tr style=\"text-align: right;\">\n",
       "      <th></th>\n",
       "      <th>Kgs</th>\n",
       "      <th>Kshs</th>\n",
       "    </tr>\n",
       "    <tr>\n",
       "      <th>Type</th>\n",
       "      <th></th>\n",
       "      <th></th>\n",
       "    </tr>\n",
       "  </thead>\n",
       "  <tbody>\n",
       "    <tr>\n",
       "      <th>ROSES</th>\n",
       "      <td>7.453496e+08</td>\n",
       "      <td>2.653919e+11</td>\n",
       "    </tr>\n",
       "    <tr>\n",
       "      <th>CUTTINGS</th>\n",
       "      <td>1.240370e+07</td>\n",
       "      <td>4.570864e+10</td>\n",
       "    </tr>\n",
       "    <tr>\n",
       "      <th>MIXED FLOWERS</th>\n",
       "      <td>4.984552e+07</td>\n",
       "      <td>2.442011e+10</td>\n",
       "    </tr>\n",
       "    <tr>\n",
       "      <th>CARNATIONS, STD</th>\n",
       "      <td>2.261814e+07</td>\n",
       "      <td>1.176832e+10</td>\n",
       "    </tr>\n",
       "    <tr>\n",
       "      <th>ALSTROMERIA</th>\n",
       "      <td>7.298524e+06</td>\n",
       "      <td>1.914683e+09</td>\n",
       "    </tr>\n",
       "    <tr>\n",
       "      <th>CARNATIONS, SPRAY</th>\n",
       "      <td>4.761093e+06</td>\n",
       "      <td>1.765309e+09</td>\n",
       "    </tr>\n",
       "    <tr>\n",
       "      <th>ARABICUM</th>\n",
       "      <td>2.508605e+06</td>\n",
       "      <td>5.901503e+08</td>\n",
       "    </tr>\n",
       "  </tbody>\n",
       "</table>\n",
       "</div>"
      ],
      "text/plain": [
       "                            Kgs          Kshs\n",
       "Type                                         \n",
       "ROSES              7.453496e+08  2.653919e+11\n",
       "CUTTINGS           1.240370e+07  4.570864e+10\n",
       "MIXED FLOWERS      4.984552e+07  2.442011e+10\n",
       "CARNATIONS, STD    2.261814e+07  1.176832e+10\n",
       "ALSTROMERIA        7.298524e+06  1.914683e+09\n",
       "CARNATIONS, SPRAY  4.761093e+06  1.765309e+09\n",
       "ARABICUM           2.508605e+06  5.901503e+08"
      ]
     },
     "execution_count": 8,
     "metadata": {},
     "output_type": "execute_result"
    }
   ],
   "source": [
    "flowers = hort_df[hort_df[\"Commodity\"] == \"Flowers\"].groupby('Type').sum().sort_values(\"Kshs\", ascending = False)\n",
    "flowers"
   ]
  },
  {
   "cell_type": "code",
   "execution_count": 9,
   "metadata": {},
   "outputs": [
    {
     "data": {
      "text/plain": [
       "Text(0.5, 1.0, 'Export by Type of Flower')"
      ]
     },
     "execution_count": 9,
     "metadata": {},
     "output_type": "execute_result"
    },
    {
     "data": {
      "image/png": "[encoded data removed]",
      "text/plain": [
       "<Figure size 720x432 with 1 Axes>"
      ]
     },
     "metadata": {
      "needs_background": "light"
     },
     "output_type": "display_data"
    }
   ],
   "source": [
    "flowers.plot(y = \"Kshs\", kind='bar', figsize = (10, 6), rot=80)\n",
    "plt.title('Export by Type of Flower')"
   ]
  },
  {
   "cell_type": "markdown",
   "metadata": {},
   "source": [
    "Roses are the highest selling flowers at more than 250 B Kshs"
   ]
  },
  {
   "cell_type": "code",
   "execution_count": 10,
   "metadata": {},
   "outputs": [
    {
     "data": {
      "text/html": [
       "<div>\n",
       "<style scoped>\n",
       "    .dataframe tbody tr th:only-of-type {\n",
       "        vertical-align: middle;\n",
       "    }\n",
       "\n",
       "    .dataframe tbody tr th {\n",
       "        vertical-align: top;\n",
       "    }\n",
       "\n",
       "    .dataframe thead th {\n",
       "        text-align: right;\n",
       "    }\n",
       "</style>\n",
       "<table border=\"1\" class=\"dataframe\">\n",
       "  <thead>\n",
       "    <tr style=\"text-align: right;\">\n",
       "      <th></th>\n",
       "      <th>Kgs</th>\n",
       "      <th>Kshs</th>\n",
       "    </tr>\n",
       "    <tr>\n",
       "      <th>Type</th>\n",
       "      <th></th>\n",
       "      <th></th>\n",
       "    </tr>\n",
       "  </thead>\n",
       "  <tbody>\n",
       "    <tr>\n",
       "      <th>BEANS FINE</th>\n",
       "      <td>1.782444e+08</td>\n",
       "      <td>4.421233e+10</td>\n",
       "    </tr>\n",
       "    <tr>\n",
       "      <th>BEANS X-FINE</th>\n",
       "      <td>5.058636e+07</td>\n",
       "      <td>9.579833e+09</td>\n",
       "    </tr>\n",
       "    <tr>\n",
       "      <th>PEAS SNOW</th>\n",
       "      <td>2.614664e+07</td>\n",
       "      <td>8.721774e+09</td>\n",
       "    </tr>\n",
       "    <tr>\n",
       "      <th>BEANS RUNNER</th>\n",
       "      <td>3.566530e+07</td>\n",
       "      <td>6.605674e+09</td>\n",
       "    </tr>\n",
       "    <tr>\n",
       "      <th>PEAS SNAP</th>\n",
       "      <td>1.886635e+07</td>\n",
       "      <td>5.393239e+09</td>\n",
       "    </tr>\n",
       "    <tr>\n",
       "      <th>OKRA</th>\n",
       "      <td>4.415142e+06</td>\n",
       "      <td>9.066091e+08</td>\n",
       "    </tr>\n",
       "    <tr>\n",
       "      <th>DUDHI</th>\n",
       "      <td>6.599723e+05</td>\n",
       "      <td>1.622434e+08</td>\n",
       "    </tr>\n",
       "  </tbody>\n",
       "</table>\n",
       "</div>"
      ],
      "text/plain": [
       "                       Kgs          Kshs\n",
       "Type                                    \n",
       "BEANS FINE    1.782444e+08  4.421233e+10\n",
       "BEANS X-FINE  5.058636e+07  9.579833e+09\n",
       "PEAS SNOW     2.614664e+07  8.721774e+09\n",
       "BEANS RUNNER  3.566530e+07  6.605674e+09\n",
       "PEAS SNAP     1.886635e+07  5.393239e+09\n",
       "OKRA          4.415142e+06  9.066091e+08\n",
       "DUDHI         6.599723e+05  1.622434e+08"
      ]
     },
     "execution_count": 10,
     "metadata": {},
     "output_type": "execute_result"
    }
   ],
   "source": [
    "veg = hort_df[hort_df[\"Commodity\"] == \"Vegetables\"].groupby('Type').sum().sort_values(\"Kshs\", ascending = False)\n",
    "veg"
   ]
  },
  {
   "cell_type": "code",
   "execution_count": 11,
   "metadata": {},
   "outputs": [
    {
     "data": {
      "text/plain": [
       "Text(0.5, 1.0, 'Export by Type of Vegetable')"
      ]
     },
     "execution_count": 11,
     "metadata": {},
     "output_type": "execute_result"
    },
    {
     "data": {
      "image/png": "[encoded data removed]",
      "text/plain": [
       "<Figure size 720x432 with 1 Axes>"
      ]
     },
     "metadata": {
      "needs_background": "light"
     },
     "output_type": "display_data"
    }
   ],
   "source": [
    "veg.plot(y = \"Kshs\", kind='bar', figsize = (10, 6), rot=80)\n",
    "plt.title('Export by Type of Vegetable')"
   ]
  },
  {
   "cell_type": "markdown",
   "metadata": {},
   "source": [
    "Beans fine are the highest selling vegetables at 40 Bn Kshs"
   ]
  },
  {
   "cell_type": "code",
   "execution_count": 12,
   "metadata": {},
   "outputs": [
    {
     "data": {
      "text/html": [
       "<div>\n",
       "<style scoped>\n",
       "    .dataframe tbody tr th:only-of-type {\n",
       "        vertical-align: middle;\n",
       "    }\n",
       "\n",
       "    .dataframe tbody tr th {\n",
       "        vertical-align: top;\n",
       "    }\n",
       "\n",
       "    .dataframe thead th {\n",
       "        text-align: right;\n",
       "    }\n",
       "</style>\n",
       "<table border=\"1\" class=\"dataframe\">\n",
       "  <thead>\n",
       "    <tr style=\"text-align: right;\">\n",
       "      <th></th>\n",
       "      <th>Kgs</th>\n",
       "      <th>Kshs</th>\n",
       "    </tr>\n",
       "    <tr>\n",
       "      <th>Type</th>\n",
       "      <th></th>\n",
       "      <th></th>\n",
       "    </tr>\n",
       "  </thead>\n",
       "  <tbody>\n",
       "    <tr>\n",
       "      <th>AVOCADO</th>\n",
       "      <td>1.839928e+08</td>\n",
       "      <td>1.465022e+10</td>\n",
       "    </tr>\n",
       "    <tr>\n",
       "      <th>MANGO</th>\n",
       "      <td>3.174773e+07</td>\n",
       "      <td>4.602497e+09</td>\n",
       "    </tr>\n",
       "    <tr>\n",
       "      <th>PASSION FRUIT</th>\n",
       "      <td>9.201683e+06</td>\n",
       "      <td>4.565904e+09</td>\n",
       "    </tr>\n",
       "  </tbody>\n",
       "</table>\n",
       "</div>"
      ],
      "text/plain": [
       "                        Kgs          Kshs\n",
       "Type                                     \n",
       "AVOCADO        1.839928e+08  1.465022e+10\n",
       "MANGO          3.174773e+07  4.602497e+09\n",
       "PASSION FRUIT  9.201683e+06  4.565904e+09"
      ]
     },
     "execution_count": 12,
     "metadata": {},
     "output_type": "execute_result"
    }
   ],
   "source": [
    "fruits = hort_df[hort_df[\"Commodity\"] == \"Fruits\"].groupby('Type').sum().sort_values(\"Kshs\", ascending = False)\n",
    "fruits"
   ]
  },
  {
   "cell_type": "code",
   "execution_count": 13,
   "metadata": {
    "scrolled": true
   },
   "outputs": [
    {
     "data": {
      "text/plain": [
       "Text(0.5, 1.0, 'Export by Type of Fruit')"
      ]
     },
     "execution_count": 13,
     "metadata": {},
     "output_type": "execute_result"
    },
    {
     "data": {
      "image/png": "[encoded data removed]",
      "text/plain": [
       "<Figure size 720x432 with 1 Axes>"
      ]
     },
     "metadata": {
      "needs_background": "light"
     },
     "output_type": "display_data"
    }
   ],
   "source": [
    "fruits.plot(y = \"Kshs\", kind='bar', figsize = (10, 6), rot=80)\n",
    "plt.title('Export by Type of Fruit')"
   ]
  },
  {
   "cell_type": "markdown",
   "metadata": {},
   "source": [
    "Avocados are the highest selling fruit in the market at 14bn Kshs"
   ]
  },
  {
   "cell_type": "code",
   "execution_count": null,
   "metadata": {},
   "outputs": [],
   "source": []
  },
  {
   "cell_type": "code",
   "execution_count": null,
   "metadata": {},
   "outputs": [],
   "source": []
  },
  {
   "cell_type": "code",
   "execution_count": null,
   "metadata": {},
   "outputs": [],
   "source": []
  },
  {
   "cell_type": "code",
   "execution_count": null,
   "metadata": {},
   "outputs": [],
   "source": []
  },
  {
   "cell_type": "code",
   "execution_count": null,
   "metadata": {},
   "outputs": [],
   "source": []
  },
  {
   "cell_type": "code",
   "execution_count": null,
   "metadata": {},
   "outputs": [],
   "source": []
  },
  {
   "cell_type": "code",
   "execution_count": null,
   "metadata": {},
   "outputs": [],
   "source": []
  },
  {
   "cell_type": "code",
   "execution_count": null,
   "metadata": {},
   "outputs": [],
   "source": []
  },
  {
   "cell_type": "code",
   "execution_count": null,
   "metadata": {},
   "outputs": [],
   "source": []
  }
 ],
 "metadata": {
  "kernelspec": {
   "display_name": "Python 3",
   "language": "python",
   "name": "python3"
  },
  "language_info": {
   "codemirror_mode": {
    "name": "ipython",
    "version": 3
   },
   "file_extension": ".py",
   "mimetype": "text/x-python",
   "name": "python",
   "nbconvert_exporter": "python",
   "pygments_lexer": "ipython3",
   "version": "3.8.3"
  }
 },
 "nbformat": 4,
 "nbformat_minor": 4
}
